{
 "cells": [
  {
   "cell_type": "code",
   "execution_count": 1,
   "metadata": {},
   "outputs": [
    {
     "data": {
      "text/plain": [
       "['Cho', 'tôi', 'biết', 'về', 'khái_niệm', 'của', 'khóa_ngoại']"
      ]
     },
     "execution_count": 1,
     "metadata": {},
     "output_type": "execute_result"
    }
   ],
   "source": [
    "from custom_tokenizer import *\n",
    "a = custom_tokenize(\"Cho tôi biết về khái niệm của khóa ngoại\")\n",
    "a"
   ]
  },
  {
   "cell_type": "code",
   "execution_count": 1,
   "metadata": {},
   "outputs": [
    {
     "name": "stdout",
     "output_type": "stream",
     "text": [
      "3.0.0\n"
     ]
    },
    {
     "name": "stderr",
     "output_type": "stream",
     "text": [
      "C:\\Users\\HAU\\AppData\\Local\\Temp\\ipykernel_20388\\2000271723.py:2: DeprecationWarning: The '__version__' attribute is deprecated and will be removed in Flask 3.1. Use feature detection or 'importlib.metadata.version(\"flask\")' instead.\n",
      "  print(flask.__version__)\n"
     ]
    }
   ],
   "source": [
    "import flask\n",
    "print(flask.__version__)\n"
   ]
  },
  {
   "cell_type": "code",
   "execution_count": 21,
   "metadata": {},
   "outputs": [
    {
     "name": "stdout",
     "output_type": "stream",
     "text": [
      "[['dữ liệu, du lieu, data'], ['thông tin, thong tin, info, information'], ['cơ sở dữ liệu, co so du lieu, database, csdl'], ['hệ quản trị cơ sở dữ liệu, he quan tri co so du lieu, hệ quản trị csdl'], ['hệ cơ sở dữ liệu, he co so du lieu, hệ csdl'], ['đa khung nhìn, đa khung nhin'], ['quản trị viên, quan tri vien'], ['thiết kế viên, thiet ke vien'], ['người dùng cuối, nguoi dung cuoi'], ['kiến trúc ba lược đồ, kien truc ba luoc đo, kiến trúc 3 lược đồ'], ['các ngôn ngữ hệ quản trị cơ sở dữ liệu, các ngôn ngữ hệ quản trị cơ sở dữ liệu, cac ngon ngu cua he quan tri co so du lieu, các ngôn ngữ hệ quản trị csdl, các ngôn ngữ hệ quản trị csdl, các loại ngôn ngữ csdl'], ['các giao tiếp hệ quản trị cơ sở dữ liệu, cac giao tiep he quan tri co so du lieu'], ['mô hình dữ liệu, mo hinh du lieu'], ['các loại mô hình dữ liệu, cac loai mo hinh du lieu'], ['mô hình thực thể mối kết hợp, mo hinh thuc the moi ket hop, erd, ERD, entity relationship diagram, sơ đồ mối quan hệ thực thể'], ['mô hình quan hệ, mo hinh quan he'], ['mô hình dữ liệu mạng, mo hinh du lieu mang'], ['mô hình hướng đối tượng, mo hinh huong đoi tuong'], ['mô hình phân cấp, mo hinh phan cap'], ['thực thể, thuc the, entity'], ['thuộc tính, thuoc tinh, attribute'], ['loại thuộc tính, loai thuoc tinh'], ['thuộc tính kết hợp, thuoc tinh ket hop'], ['thuộc tính đơn trị, thuoc tinh đon tri'], ['thuộc tính đa trị, thuoc tinh đa tri'], ['thuộc tính suy diễn, thuoc tinh suy dien'], ['mối kết hợp, moi ket hop'], ['tập mối kết hợp phản thân, tap moi ket hop phan than'], ['phân loại tập mối kết hợp, phan loai tap moi ket hop'], ['một một, một-một, 1-1, 1 1, tập mối kết hợp một - một, tap moi ket hop mot - mot, tập mối kết hợp một một, tập mối kết hợp 1 - 1, tập mối kết hợp 1 1, một - một, 1 - 1'], ['một-nhiều, một nhiều, 1-n, 1 n, quan hệ một - nhiều, quan hệ 1 - n, tập mối kết hợp một - nhiều, tap moi ket hop mot - nhieu, tập mối kết hợp một nhiều, tập mối kết hợp 1 - n, tập mối kết hợp 1 n, một - nhiều, 1 n, 1 - n'], ['nhiều một, nhiều-một, n-1, n 1, tập mối kết hợp nhiều - một, tap moi ket hop nhieu - mot, tập mối kết hợp nhiều một, tập mối kết hợp n - 1, tập mối kết hợp n 1, quan hệ nhiều - một, nhiều - một, n 1, n - 1'], ['nhiều nhiều, nhiều-nhiều, n-n, n-m, n n, n m, tập mối kết hợp nhiều - nhiều, tap moi ket hop nhieu - nhieu, tập mối kết hợp nhiều nhiều, tập mối kết hợp n - n, tập mối kết hợp n n, nhiều - nhiều, n n, n - n'], ['bản số, ban so'], ['thuộc tính trên tập mối kết hợp, thuoc tinh tren tap moi ket hop'], ['tên vai trò, ten vai tro'], ['khóa, Khóa, khóa của tập thực thể, khoa cua tap thuc the, key, khoa'], ['tập thực thể yếu, tap thuc the yeu'], ['mô hình thực thể kết hợp, mo hinh thuc the ket hop'], ['kết luận chương 2, ket luan chuong 2, chương 2'], ['mô hình dữ liệu quan hệ, mo hinh du lieu quan he'], ['mối quan hệ, moi quan he, relationship, relation'], ['các loại khóa, cac loai khoa, cac dang khoa'], ['siêu khóa, sieu khoa'], ['khóa chính, khoa chinh'], ['khóa dự tuyển, khoa du tuyen'], ['khóa ngoại, khoa ngoai, ngoại'], ['tập thực thể sang quan hệ, tap thuc the sang quan he'], ['tập mối kết hợp 2 ngôi sang quan hệ, tap moi ket hop 2 ngoi sang quan he'], ['tập thực thể yếu sang quan hệ, tap thuc the yeu sang quan he'], ['thuộc tính đa trị, thuoc tinh đa tri'], ['phụ thuộc hàm, phu thuoc ham'], ['dạng chuẩn 1, dang chuan 1'], ['dạng chuẩn 2, dang chuan 2'], ['dạng chuẩn 3, dang chuan 3'], ['dạng chuẩn bck(boyee codd kent), dang chuan bck(boyee codd kent), boyee codd kent, dang chuan boyee codd kent'], ['đại số quan hệ, đai so quan he'], ['phép toán đại số quan hệ, phep toan đai so quan he'], ['tập hợp đầy đủ, tap hop đay đu'], ['tính tổng và gom nhóm, tinh tong va gom nhom'], ['kết luận chương 5, ket luan chuong 5'], ['ngôn ngữ sql, ngon ngu sql, sql'], ['lệnh create, lenh create, create'], ['tạo bảng create table, tao bang create table, create table'], ['kiểu dữ liệu sql, kieu du lieu sql'], ['tạo miền create domain, tao mien create domain'], ['ràng buộc trong sql, rang buoc trong sql'], ['ràng buộc thuộc tính, rang buoc thuoc tinh'], ['ràng buộc khóa chính khóa ngoại, rang buoc khoa chinh khoa ngoai'], ['đặt tên ràng buộc, đat ten rang buoc'], ['lệnh cập nhật, lenh cap nhat'], ['lệnh alter, lenh alter'], ['lệnh drop, lenh drop'], ['truy vấn sql, truy van sql'], ['select from where, select from where, select, from, where'], ['thuộc tính trùng, thuoc tinh trung'], ['select không sử dụng where, select khong su dung where'], ['order by, order by, sắp xếp, sort'], ['phép toán tập hợp, phep toan tap hop'], ['truy vấn phức tạp, truy van phuc tap'], ['giá trị null, gia tri null'], ['truy vấn lồng, truy van long'], ['truy vấn lồng phân cấp, truy van long phan cap'], ['truy vấn lồng tương quan, truy van long tuong quan'], ['hàm tính tổng hợp, ham tinh tong hop'], ['group by và having, group by va having'], ['kết luận truy vấn trong sql, ket luan truy van trong sql'], ['các lệnh cập nhật dữ liệu, cac lenh cap nhat du lieu'], ['lệnh insert, lenh insert'], ['lệnh delete, lenh delete'], ['lệnh update, lenh update'], ['kết luận chương 6, ket luan chuong 6'], ['phép tính quan hệ, phep tinh quan he'], ['biến bộ và quan hệ miền, bien bo va quan he mien'], ['biểu thức và công thức, bieu thuc va cong thuc'], ['lượng từ với mọi và tồn tại, luong tu voi moi va ton tai'], ['biến tự do và biến kết buộc, bien tu do va bien ket buoc'], ['ví dụ phép tính quan hệ có biến là bộ, vi du phep tinh quan he co bien la bo'], ['biểu thức an toàn, bieu thuc an toan'], ['phép tính quan hệ có biến là miền, phep tinh quan he co bien la mien'], ['biểu thức phép tính quan hệ có biến là miền, bieu thuc phep tinh quan he co bien la mien'], ['ví dụ phép tính quan hệ có biến là miền, vi du phep tinh quan he co bien la mien'], ['kết luận chương 7, ket luan chuong 7'], ['ràng buộc toàn vẹn, rang buoc toan ven'], ['mục đích ràng buộc toàn vẹn, muc đich cua rang buoc toan ven'], ['đặc trưng nội dung\\nnội dung ràng buộc toàn vẹn, đac trung noi dung\\nnoi dung rang buoc toan ven'], ['bối cảnh ràng buộc toàn vẹn, boi canh cua rang buoc toan ven'], ['tầm ảnh hưởng, tam anh huong'], ['loại ràng buộc toàn vẹn, loai rang buoc toan ven'], ['miền giá trị, mien gia tri'], ['ràng buộc toàn vẹn liên bộ, rang buoc toan ven lien bo'], ['ràng buộc toàn vẹn liên thuộc tính, rang buoc toan ven lien thuoc tinh'], ['ràng buộc toàn vẹn tham chiếu, rang buoc toan ven tham chieu'], ['ràng buộc toàn vẹn liên bộ, rang buoc toan ven lien bo'], ['ràng buộc toàn vẹn thuộc tính tổng hợp, rang buoc toan ven thuoc tinh tong hop'], ['chu trình, chu trinh'], ['phép hội, phep hoi'], ['phép giao, phep giao'], ['phép hiệu, phep hieu'], ['phép tích đề-các, phep tich đe-cac'], ['phép chọn, phep chon'], ['phép chiếu, phep chieu'], ['phép gán, phep gan'], ['phép đổi tên, phep đoi ten'], ['phép kết, phep ket'], ['phép chia, phep chia'], ['phép thêm, phep them'], ['phép xóa, phep xoa'], ['phép sửa, phep sua'], ['tính tự mô tả'], ['tính độc lập'], ['tính trừu tượng'], ['tính nhất quán, tinh nhat quan']]\n"
     ]
    },
    {
     "ename": "PermissionError",
     "evalue": "[Errno 13] Permission denied: 'du_lieu.csv'",
     "output_type": "error",
     "traceback": [
      "\u001b[1;31m---------------------------------------------------------------------------\u001b[0m",
      "\u001b[1;31mPermissionError\u001b[0m                           Traceback (most recent call last)",
      "Cell \u001b[1;32mIn[21], line 15\u001b[0m\n\u001b[0;32m     12\u001b[0m         csv_data\u001b[38;5;241m.\u001b[39mappend(a)\n\u001b[0;32m     14\u001b[0m \u001b[38;5;28mprint\u001b[39m(csv_data)\n\u001b[1;32m---> 15\u001b[0m \u001b[38;5;28;01mwith\u001b[39;00m \u001b[38;5;28;43mopen\u001b[39;49m\u001b[43m(\u001b[49m\u001b[38;5;124;43m'\u001b[39;49m\u001b[38;5;124;43mdu_lieu.csv\u001b[39;49m\u001b[38;5;124;43m'\u001b[39;49m\u001b[43m,\u001b[49m\u001b[43m \u001b[49m\u001b[38;5;124;43m'\u001b[39;49m\u001b[38;5;124;43mw\u001b[39;49m\u001b[38;5;124;43m'\u001b[39;49m\u001b[43m,\u001b[49m\u001b[43m \u001b[49m\u001b[43mnewline\u001b[49m\u001b[38;5;241;43m=\u001b[39;49m\u001b[38;5;124;43m'\u001b[39;49m\u001b[38;5;124;43m'\u001b[39;49m\u001b[43m,\u001b[49m\u001b[43m \u001b[49m\u001b[43mencoding\u001b[49m\u001b[38;5;241;43m=\u001b[39;49m\u001b[38;5;124;43m'\u001b[39;49m\u001b[38;5;124;43mutf-16\u001b[39;49m\u001b[38;5;124;43m'\u001b[39;49m\u001b[43m)\u001b[49m \u001b[38;5;28;01mas\u001b[39;00m file:\n\u001b[0;32m     16\u001b[0m     writer \u001b[38;5;241m=\u001b[39m csv\u001b[38;5;241m.\u001b[39mwriter(file)\n\u001b[0;32m     18\u001b[0m     \u001b[38;5;66;03m# Viết từng hàng dữ liệu vào file CSV\u001b[39;00m\n",
      "File \u001b[1;32m~\\AppData\\Roaming\\Python\\Python311\\site-packages\\IPython\\core\\interactiveshell.py:310\u001b[0m, in \u001b[0;36m_modified_open\u001b[1;34m(file, *args, **kwargs)\u001b[0m\n\u001b[0;32m    303\u001b[0m \u001b[38;5;28;01mif\u001b[39;00m file \u001b[38;5;129;01min\u001b[39;00m {\u001b[38;5;241m0\u001b[39m, \u001b[38;5;241m1\u001b[39m, \u001b[38;5;241m2\u001b[39m}:\n\u001b[0;32m    304\u001b[0m     \u001b[38;5;28;01mraise\u001b[39;00m \u001b[38;5;167;01mValueError\u001b[39;00m(\n\u001b[0;32m    305\u001b[0m         \u001b[38;5;124mf\u001b[39m\u001b[38;5;124m\"\u001b[39m\u001b[38;5;124mIPython won\u001b[39m\u001b[38;5;124m'\u001b[39m\u001b[38;5;124mt let you open fd=\u001b[39m\u001b[38;5;132;01m{\u001b[39;00mfile\u001b[38;5;132;01m}\u001b[39;00m\u001b[38;5;124m by default \u001b[39m\u001b[38;5;124m\"\u001b[39m\n\u001b[0;32m    306\u001b[0m         \u001b[38;5;124m\"\u001b[39m\u001b[38;5;124mas it is likely to crash IPython. If you know what you are doing, \u001b[39m\u001b[38;5;124m\"\u001b[39m\n\u001b[0;32m    307\u001b[0m         \u001b[38;5;124m\"\u001b[39m\u001b[38;5;124myou can use builtins\u001b[39m\u001b[38;5;124m'\u001b[39m\u001b[38;5;124m open.\u001b[39m\u001b[38;5;124m\"\u001b[39m\n\u001b[0;32m    308\u001b[0m     )\n\u001b[1;32m--> 310\u001b[0m \u001b[38;5;28;01mreturn\u001b[39;00m \u001b[43mio_open\u001b[49m\u001b[43m(\u001b[49m\u001b[43mfile\u001b[49m\u001b[43m,\u001b[49m\u001b[43m \u001b[49m\u001b[38;5;241;43m*\u001b[39;49m\u001b[43margs\u001b[49m\u001b[43m,\u001b[49m\u001b[43m \u001b[49m\u001b[38;5;241;43m*\u001b[39;49m\u001b[38;5;241;43m*\u001b[39;49m\u001b[43mkwargs\u001b[49m\u001b[43m)\u001b[49m\n",
      "\u001b[1;31mPermissionError\u001b[0m: [Errno 13] Permission denied: 'du_lieu.csv'"
     ]
    }
   ],
   "source": [
    "import json\n",
    "import csv\n",
    "csv_data = []\n",
    "with open('./data/keywords.json', 'r', encoding='utf-8') as files:\n",
    "    data = json.load(files)\n",
    "\n",
    "    for i in data['intents']:\n",
    "        b = []\n",
    "        for j in i['patterns']:\n",
    "            b.append(j)\n",
    "        a=[', '.join(b)]\n",
    "        csv_data.append(a)\n",
    "\n",
    "print(csv_data)\n",
    "with open('du_lieu.csv', 'w', newline='', encoding='utf-16') as file:\n",
    "    writer = csv.writer(file)\n",
    "\n",
    "    # Viết từng hàng dữ liệu vào file CSV\n",
    "    writer.writerows(csv_data)"
   ]
  }
 ],
 "metadata": {
  "kernelspec": {
   "display_name": "Python 3",
   "language": "python",
   "name": "python3"
  },
  "language_info": {
   "codemirror_mode": {
    "name": "ipython",
    "version": 3
   },
   "file_extension": ".py",
   "mimetype": "text/x-python",
   "name": "python",
   "nbconvert_exporter": "python",
   "pygments_lexer": "ipython3",
   "version": "3.11.5"
  }
 },
 "nbformat": 4,
 "nbformat_minor": 2
}
